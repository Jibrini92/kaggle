{
 "cells": [
  {
   "cell_type": "code",
   "execution_count": 107,
   "source": [
    "#IMPORTING LIBRARIES\r\n",
    "import numpy as np # linear algebra\r\n",
    "import pandas as pd # data processing, CSV file I/O (e.g. pd.read_csv)\r\n",
    "import seaborn as sns \r\n",
    "import matplotlib.pyplot as plt\r\n",
    "%matplotlib inline"
   ],
   "outputs": [],
   "metadata": {}
  },
  {
   "cell_type": "code",
   "execution_count": 108,
   "source": [
    "#Loading Data\r\n",
    "train_df = pd.read_csv('titanic/train.csv')\r\n",
    "test_df = pd.read_csv('titanic/test.csv')\r\n",
    "all_df = pd.concat([train_df,test_df], ignore_index=True)\r\n",
    "all_df.columns"
   ],
   "outputs": [
    {
     "output_type": "execute_result",
     "data": {
      "text/plain": [
       "Index(['PassengerId', 'Survived', 'Pclass', 'Name', 'Sex', 'Age', 'SibSp',\n",
       "       'Parch', 'Ticket', 'Fare', 'Cabin', 'Embarked'],\n",
       "      dtype='object')"
      ]
     },
     "metadata": {},
     "execution_count": 108
    }
   ],
   "metadata": {}
  },
  {
   "cell_type": "code",
   "execution_count": 109,
   "source": [
    "all_df.info()"
   ],
   "outputs": [
    {
     "output_type": "stream",
     "name": "stdout",
     "text": [
      "<class 'pandas.core.frame.DataFrame'>\n",
      "RangeIndex: 1309 entries, 0 to 1308\n",
      "Data columns (total 12 columns):\n",
      " #   Column       Non-Null Count  Dtype  \n",
      "---  ------       --------------  -----  \n",
      " 0   PassengerId  1309 non-null   int64  \n",
      " 1   Survived     891 non-null    float64\n",
      " 2   Pclass       1309 non-null   int64  \n",
      " 3   Name         1309 non-null   object \n",
      " 4   Sex          1309 non-null   object \n",
      " 5   Age          1046 non-null   float64\n",
      " 6   SibSp        1309 non-null   int64  \n",
      " 7   Parch        1309 non-null   int64  \n",
      " 8   Ticket       1309 non-null   object \n",
      " 9   Fare         1308 non-null   float64\n",
      " 10  Cabin        295 non-null    object \n",
      " 11  Embarked     1307 non-null   object \n",
      "dtypes: float64(3), int64(4), object(5)\n",
      "memory usage: 122.8+ KB\n"
     ]
    }
   ],
   "metadata": {}
  },
  {
   "cell_type": "code",
   "execution_count": 110,
   "source": [
    "train_df['Survived'].value_counts().plot.pie(autopct='%1.1f%%')\r\n"
   ],
   "outputs": [
    {
     "output_type": "execute_result",
     "data": {
      "text/plain": [
       "<AxesSubplot:ylabel='Survived'>"
      ]
     },
     "metadata": {},
     "execution_count": 110
    },
    {
     "output_type": "display_data",
     "data": {
      "text/plain": [
       "<Figure size 432x288 with 1 Axes>"
      ],
      "image/png": "[encoded data removed]"
     },
     "metadata": {}
    }
   ],
   "metadata": {}
  },
  {
   "cell_type": "markdown",
   "source": [
    "Only 38.4 passangers from the traning set surrvived.\r\n",
    "We can use this as our baseline for now:\r\n",
    "Setting all passangers to 'Survived'=0 will be correct around 62% of the time"
   ],
   "metadata": {}
  },
  {
   "cell_type": "markdown",
   "source": [
    "# Data Cleaning/Engeneering\r\n",
    "For each value we can ask the following questions:\r\n",
    "1. Are there missing values and how to fill them?\r\n",
    "2. Dose it impact Survival or should we drop it?\r\n",
    "3. Can we derive from it a value that has a higher corrlation with Survial?\r\n",
    "4. (Optional) How closly related is it to some other value?"
   ],
   "metadata": {}
  },
  {
   "cell_type": "markdown",
   "source": [
    "## Pclass"
   ],
   "metadata": {}
  },
  {
   "cell_type": "code",
   "execution_count": 111,
   "source": [
    "sns.barplot(all_df['Pclass'].value_counts().index,all_df['Pclass'].value_counts())"
   ],
   "outputs": [
    {
     "output_type": "stream",
     "name": "stderr",
     "text": [
      "C:\\Users\\PCMC\\anaconda3\\lib\\site-packages\\seaborn\\_decorators.py:36: FutureWarning: Pass the following variables as keyword args: x, y. From version 0.12, the only valid positional argument will be `data`, and passing other arguments without an explicit keyword will result in an error or misinterpretation.\n",
      "  warnings.warn(\n"
     ]
    },
    {
     "output_type": "execute_result",
     "data": {
      "text/plain": [
       "<AxesSubplot:ylabel='Pclass'>"
      ]
     },
     "metadata": {},
     "execution_count": 111
    },
    {
     "output_type": "display_data",
     "data": {
      "text/plain": [
       "<Figure size 432x288 with 1 Axes>"
      ],
      "image/png": "[encoded data removed]"
     },
     "metadata": {
      "needs_background": "light"
     }
    }
   ],
   "metadata": {}
  },
  {
   "cell_type": "code",
   "execution_count": 112,
   "source": [
    "pd.pivot_table(train_df, index='Survived', columns='Pclass',aggfunc='count',values='Age')\r\n",
    "#Pclass has no empty values and it impacts 'Survived' so we can leave it as it is"
   ],
   "outputs": [
    {
     "output_type": "execute_result",
     "data": {
      "text/plain": [
       "Pclass      1   2    3\n",
       "Survived              \n",
       "0          64  90  270\n",
       "1         122  83   85"
      ],
      "text/html": [
       "<div>\n",
       "<style scoped>\n",
       "    .dataframe tbody tr th:only-of-type {\n",
       "        vertical-align: middle;\n",
       "    }\n",
       "\n",
       "    .dataframe tbody tr th {\n",
       "        vertical-align: top;\n",
       "    }\n",
       "\n",
       "    .dataframe thead th {\n",
       "        text-align: right;\n",
       "    }\n",
       "</style>\n",
       "<table border=\"1\" class=\"dataframe\">\n",
       "  <thead>\n",
       "    <tr style=\"text-align: right;\">\n",
       "      <th>Pclass</th>\n",
       "      <th>1</th>\n",
       "      <th>2</th>\n",
       "      <th>3</th>\n",
       "    </tr>\n",
       "    <tr>\n",
       "      <th>Survived</th>\n",
       "      <th></th>\n",
       "      <th></th>\n",
       "      <th></th>\n",
       "    </tr>\n",
       "  </thead>\n",
       "  <tbody>\n",
       "    <tr>\n",
       "      <th>0</th>\n",
       "      <td>64</td>\n",
       "      <td>90</td>\n",
       "      <td>270</td>\n",
       "    </tr>\n",
       "    <tr>\n",
       "      <th>1</th>\n",
       "      <td>122</td>\n",
       "      <td>83</td>\n",
       "      <td>85</td>\n",
       "    </tr>\n",
       "  </tbody>\n",
       "</table>\n",
       "</div>"
      ]
     },
     "metadata": {},
     "execution_count": 112
    }
   ],
   "metadata": {}
  },
  {
   "cell_type": "markdown",
   "source": [
    "## Name\r\n",
    "1. We can assume that Name dose not have direct impact on survival\r\n",
    "2. What about titles?\r\n"
   ],
   "metadata": {}
  },
  {
   "cell_type": "code",
   "execution_count": 113,
   "source": [
    "all_df['Name'].head()"
   ],
   "outputs": [
    {
     "output_type": "execute_result",
     "data": {
      "text/plain": [
       "0                              Braund, Mr. Owen Harris\n",
       "1    Cumings, Mrs. John Bradley (Florence Briggs Th...\n",
       "2                               Heikkinen, Miss. Laina\n",
       "3         Futrelle, Mrs. Jacques Heath (Lily May Peel)\n",
       "4                             Allen, Mr. William Henry\n",
       "Name: Name, dtype: object"
      ]
     },
     "metadata": {},
     "execution_count": 113
    }
   ],
   "metadata": {}
  },
  {
   "cell_type": "code",
   "execution_count": 114,
   "source": [
    "all_df['name_title'] = all_df.Name.apply(lambda x: x.split(',')[1].split('.')[0].strip())\r\n",
    "all_df['name_title'].value_counts()"
   ],
   "outputs": [
    {
     "output_type": "execute_result",
     "data": {
      "text/plain": [
       "Mr              757\n",
       "Miss            260\n",
       "Mrs             197\n",
       "Master           61\n",
       "Rev               8\n",
       "Dr                8\n",
       "Col               4\n",
       "Ms                2\n",
       "Mlle              2\n",
       "Major             2\n",
       "the Countess      1\n",
       "Dona              1\n",
       "Don               1\n",
       "Mme               1\n",
       "Sir               1\n",
       "Jonkheer          1\n",
       "Lady              1\n",
       "Capt              1\n",
       "Name: name_title, dtype: int64"
      ]
     },
     "metadata": {},
     "execution_count": 114
    }
   ],
   "metadata": {}
  },
  {
   "cell_type": "code",
   "execution_count": 115,
   "source": [
    "nobels=['Master','Dr','Rev','Col','Sir','Don','Lady','the Countess']\r\n",
    "all_df['Noble'] = all_df.name_title.apply(lambda x: 1 if x in nobels else 0 )\r\n",
    "pd.pivot_table(all_df, index='Survived', columns='Noble',aggfunc='count',values='Age')\r\n"
   ],
   "outputs": [
    {
     "output_type": "execute_result",
     "data": {
      "text/plain": [
       "Noble       0   1\n",
       "Survived         \n",
       "0.0       398  26\n",
       "1.0       262  28"
      ],
      "text/html": [
       "<div>\n",
       "<style scoped>\n",
       "    .dataframe tbody tr th:only-of-type {\n",
       "        vertical-align: middle;\n",
       "    }\n",
       "\n",
       "    .dataframe tbody tr th {\n",
       "        vertical-align: top;\n",
       "    }\n",
       "\n",
       "    .dataframe thead th {\n",
       "        text-align: right;\n",
       "    }\n",
       "</style>\n",
       "<table border=\"1\" class=\"dataframe\">\n",
       "  <thead>\n",
       "    <tr style=\"text-align: right;\">\n",
       "      <th>Noble</th>\n",
       "      <th>0</th>\n",
       "      <th>1</th>\n",
       "    </tr>\n",
       "    <tr>\n",
       "      <th>Survived</th>\n",
       "      <th></th>\n",
       "      <th></th>\n",
       "    </tr>\n",
       "  </thead>\n",
       "  <tbody>\n",
       "    <tr>\n",
       "      <th>0.0</th>\n",
       "      <td>398</td>\n",
       "      <td>26</td>\n",
       "    </tr>\n",
       "    <tr>\n",
       "      <th>1.0</th>\n",
       "      <td>262</td>\n",
       "      <td>28</td>\n",
       "    </tr>\n",
       "  </tbody>\n",
       "</table>\n",
       "</div>"
      ]
     },
     "metadata": {},
     "execution_count": 115
    }
   ],
   "metadata": {}
  },
  {
   "cell_type": "code",
   "execution_count": 116,
   "source": [
    "# In our sample size the nobles have a batter chance of surrvival than the avrage passanger\r\n",
    "# we will keep the nobles column but will drop the name coulumn\r\n",
    "# also drop name_title as it has a high colinearity with sex due to Miss, Mr\r\n",
    "all_df=all_df.drop(columns=['Name','name_title'])"
   ],
   "outputs": [],
   "metadata": {}
  },
  {
   "cell_type": "markdown",
   "source": [
    "## Age\r\n",
    "1. Fill in missing values\r\n"
   ],
   "metadata": {}
  },
  {
   "cell_type": "code",
   "execution_count": 117,
   "source": [
    "all_df.corrwith(all_df['Age'])"
   ],
   "outputs": [
    {
     "output_type": "execute_result",
     "data": {
      "text/plain": [
       "PassengerId    0.028814\n",
       "Survived      -0.077221\n",
       "Pclass        -0.408106\n",
       "Age            1.000000\n",
       "SibSp         -0.243699\n",
       "Parch         -0.150917\n",
       "Fare           0.178740\n",
       "Noble         -0.245267\n",
       "dtype: float64"
      ]
     },
     "metadata": {},
     "execution_count": 117
    }
   ],
   "metadata": {}
  },
  {
   "cell_type": "code",
   "execution_count": 118,
   "source": [
    "#Lets use two most relevant coulumns\r\n",
    "all_df.groupby(['Pclass'])['Age'].median()"
   ],
   "outputs": [
    {
     "output_type": "execute_result",
     "data": {
      "text/plain": [
       "Pclass\n",
       "1    39.0\n",
       "2    29.0\n",
       "3    24.0\n",
       "Name: Age, dtype: float64"
      ]
     },
     "metadata": {},
     "execution_count": 118
    }
   ],
   "metadata": {}
  },
  {
   "cell_type": "code",
   "execution_count": 119,
   "source": [
    "all_df.groupby(['SibSp'])['Age'].median()"
   ],
   "outputs": [
    {
     "output_type": "execute_result",
     "data": {
      "text/plain": [
       "SibSp\n",
       "0    28.0\n",
       "1    30.0\n",
       "2    21.5\n",
       "3    14.5\n",
       "4     7.0\n",
       "5    10.5\n",
       "8    14.5\n",
       "Name: Age, dtype: float64"
      ]
     },
     "metadata": {},
     "execution_count": 119
    }
   ],
   "metadata": {}
  },
  {
   "cell_type": "code",
   "execution_count": 120,
   "source": [
    "all_df.groupby(['Parch'])['Age'].median()"
   ],
   "outputs": [
    {
     "output_type": "execute_result",
     "data": {
      "text/plain": [
       "Parch\n",
       "0    29.0\n",
       "1    22.5\n",
       "2    17.0\n",
       "3    42.0\n",
       "4    45.0\n",
       "5    39.0\n",
       "6    41.5\n",
       "9     NaN\n",
       "Name: Age, dtype: float64"
      ]
     },
     "metadata": {},
     "execution_count": 120
    }
   ],
   "metadata": {}
  },
  {
   "cell_type": "markdown",
   "source": [
    "1. If SibSp > 1 we can deduce that a passnager is traveling with at least one sibling, but this effect only really shows on age when SibSp > 2\r\n",
    "2. If Parch > 2 we can deduce that the passanger is traveling with children"
   ],
   "metadata": {}
  },
  {
   "cell_type": "code",
   "execution_count": 121,
   "source": [
    "for i in range(0,len(all_df)):\r\n",
    "    x=0\r\n",
    "    if pd.isna(all_df.at[i,'Age']):\r\n",
    "        if all_df.at[i,'Parch'] > 2:\r\n",
    "            x = 10\r\n",
    "        elif all_df.at[i,'SibSp'] > 2:\r\n",
    "            x = -10\r\n",
    "        all_df.at[i,'Age']=all_df.groupby(['Pclass'])['Age'].median()[all_df.at[i,'Pclass']] +x\r\n"
   ],
   "outputs": [],
   "metadata": {}
  },
  {
   "cell_type": "markdown",
   "source": [
    "## Sex\r\n"
   ],
   "metadata": {}
  },
  {
   "cell_type": "code",
   "execution_count": 122,
   "source": [
    "pd.pivot_table(train_df,index='Survived',columns='Sex', values = 'Ticket', aggfunc='count')\r\n"
   ],
   "outputs": [
    {
     "output_type": "execute_result",
     "data": {
      "text/plain": [
       "Sex       female  male\n",
       "Survived              \n",
       "0             81   468\n",
       "1            233   109"
      ],
      "text/html": [
       "<div>\n",
       "<style scoped>\n",
       "    .dataframe tbody tr th:only-of-type {\n",
       "        vertical-align: middle;\n",
       "    }\n",
       "\n",
       "    .dataframe tbody tr th {\n",
       "        vertical-align: top;\n",
       "    }\n",
       "\n",
       "    .dataframe thead th {\n",
       "        text-align: right;\n",
       "    }\n",
       "</style>\n",
       "<table border=\"1\" class=\"dataframe\">\n",
       "  <thead>\n",
       "    <tr style=\"text-align: right;\">\n",
       "      <th>Sex</th>\n",
       "      <th>female</th>\n",
       "      <th>male</th>\n",
       "    </tr>\n",
       "    <tr>\n",
       "      <th>Survived</th>\n",
       "      <th></th>\n",
       "      <th></th>\n",
       "    </tr>\n",
       "  </thead>\n",
       "  <tbody>\n",
       "    <tr>\n",
       "      <th>0</th>\n",
       "      <td>81</td>\n",
       "      <td>468</td>\n",
       "    </tr>\n",
       "    <tr>\n",
       "      <th>1</th>\n",
       "      <td>233</td>\n",
       "      <td>109</td>\n",
       "    </tr>\n",
       "  </tbody>\n",
       "</table>\n",
       "</div>"
      ]
     },
     "metadata": {},
     "execution_count": 122
    }
   ],
   "metadata": {}
  },
  {
   "cell_type": "code",
   "execution_count": 123,
   "source": [
    "males = train_df[train_df['Sex']=='male']['Survived'].value_counts()\r\n",
    "females = train_df[train_df['Sex']=='female']['Survived'].value_counts()\r\n",
    "df = pd.DataFrame([males,females])\r\n",
    "df.index=['Male','Female']\r\n",
    "df.plot(kind='bar',stacked=True,fig=(18,6),title='Sex and Survival')"
   ],
   "outputs": [
    {
     "output_type": "execute_result",
     "data": {
      "text/plain": [
       "<AxesSubplot:title={'center':'Sex and Survival'}>"
      ]
     },
     "metadata": {},
     "execution_count": 123
    },
    {
     "output_type": "display_data",
     "data": {
      "text/plain": [
       "<Figure size 432x288 with 1 Axes>"
      ],
      "image/png": "[encoded data removed]"
     },
     "metadata": {
      "needs_background": "light"
     }
    }
   ],
   "metadata": {}
  },
  {
   "cell_type": "markdown",
   "source": [
    "## SibSp and Parch\r\n",
    "1. already used in 'Age'\r\n",
    "2. no missing values\r\n",
    "3. Can we derive other values based on them?"
   ],
   "metadata": {}
  },
  {
   "cell_type": "code",
   "execution_count": 124,
   "source": [
    "#Family and Alone\r\n",
    "all_df['Family_Size']=all_df['SibSp']+all_df['Parch']+1\r\n",
    "all_df['Alone'] = all_df.Family_Size.apply(lambda x: 1 if x==1 else 0 )\r\n",
    "\r\n",
    "print(pd.pivot_table(all_df,index='Survived',columns='Alone',values='Age',aggfunc='count'))\r\n",
    "print(\"##########################################################################\")\r\n",
    "print(pd.pivot_table(all_df,index='Survived',columns='Family_Size',values='Age',aggfunc='count'))\r\n",
    "\r\n"
   ],
   "outputs": [
    {
     "output_type": "stream",
     "name": "stdout",
     "text": [
      "Alone       0    1\n",
      "Survived          \n",
      "0.0       175  374\n",
      "1.0       179  163\n",
      "##########################################################################\n",
      "Family_Size     1     2     3     4     5     6    7    8    11\n",
      "Survived                                                       \n",
      "0.0          374.0  72.0  43.0   8.0  12.0  19.0  8.0  6.0  7.0\n",
      "1.0          163.0  89.0  59.0  21.0   3.0   3.0  4.0  NaN  NaN\n"
     ]
    }
   ],
   "metadata": {}
  },
  {
   "cell_type": "markdown",
   "source": [
    "# Ticket\r\n",
    "1. What can ticket tell us?"
   ],
   "metadata": {}
  },
  {
   "cell_type": "code",
   "execution_count": 125,
   "source": [
    "all_df[\"Ticket\"].head()"
   ],
   "outputs": [
    {
     "output_type": "execute_result",
     "data": {
      "text/plain": [
       "0           A/5 21171\n",
       "1            PC 17599\n",
       "2    STON/O2. 3101282\n",
       "3              113803\n",
       "4              373450\n",
       "Name: Ticket, dtype: object"
      ]
     },
     "metadata": {},
     "execution_count": 125
    }
   ],
   "metadata": {}
  },
  {
   "cell_type": "code",
   "execution_count": 126,
   "source": [
    "all_df['ticket_num'] = all_df.Ticket.apply(lambda x: x if x.isnumeric() else (x.split(' ')[-1]))\r\n",
    "all_df['ticket_lett']=all_df.Ticket.apply(lambda x: 0 if x.isnumeric() else (x.split(' ')[0]) )\r\n",
    "all_df.tail(10)"
   ],
   "outputs": [
    {
     "output_type": "execute_result",
     "data": {
      "text/plain": [
       "      PassengerId  Survived  Pclass     Sex   Age  SibSp  Parch  \\\n",
       "1299         1300       NaN       3  female  24.0      0      0   \n",
       "1300         1301       NaN       3  female   3.0      1      1   \n",
       "1301         1302       NaN       3  female  24.0      0      0   \n",
       "1302         1303       NaN       1  female  37.0      1      0   \n",
       "1303         1304       NaN       3  female  28.0      0      0   \n",
       "1304         1305       NaN       3    male  24.0      0      0   \n",
       "1305         1306       NaN       1  female  39.0      0      0   \n",
       "1306         1307       NaN       3    male  38.5      0      0   \n",
       "1307         1308       NaN       3    male  24.0      0      0   \n",
       "1308         1309       NaN       3    male  24.0      1      1   \n",
       "\n",
       "                  Ticket      Fare Cabin Embarked  Noble  Family_Size  Alone  \\\n",
       "1299              334915    7.7208   NaN        Q      0            1      1   \n",
       "1300  SOTON/O.Q. 3101315   13.7750   NaN        S      0            3      0   \n",
       "1301              365237    7.7500   NaN        Q      0            1      1   \n",
       "1302               19928   90.0000   C78        Q      0            2      0   \n",
       "1303              347086    7.7750   NaN        S      0            1      1   \n",
       "1304           A.5. 3236    8.0500   NaN        S      0            1      1   \n",
       "1305            PC 17758  108.9000  C105        C      0            1      1   \n",
       "1306  SOTON/O.Q. 3101262    7.2500   NaN        S      0            1      1   \n",
       "1307              359309    8.0500   NaN        S      0            1      1   \n",
       "1308                2668   22.3583   NaN        C      1            3      0   \n",
       "\n",
       "     ticket_num ticket_lett  \n",
       "1299     334915           0  \n",
       "1300    3101315  SOTON/O.Q.  \n",
       "1301     365237           0  \n",
       "1302      19928           0  \n",
       "1303     347086           0  \n",
       "1304       3236        A.5.  \n",
       "1305      17758          PC  \n",
       "1306    3101262  SOTON/O.Q.  \n",
       "1307     359309           0  \n",
       "1308       2668           0  "
      ],
      "text/html": [
       "<div>\n",
       "<style scoped>\n",
       "    .dataframe tbody tr th:only-of-type {\n",
       "        vertical-align: middle;\n",
       "    }\n",
       "\n",
       "    .dataframe tbody tr th {\n",
       "        vertical-align: top;\n",
       "    }\n",
       "\n",
       "    .dataframe thead th {\n",
       "        text-align: right;\n",
       "    }\n",
       "</style>\n",
       "<table border=\"1\" class=\"dataframe\">\n",
       "  <thead>\n",
       "    <tr style=\"text-align: right;\">\n",
       "      <th></th>\n",
       "      <th>PassengerId</th>\n",
       "      <th>Survived</th>\n",
       "      <th>Pclass</th>\n",
       "      <th>Sex</th>\n",
       "      <th>Age</th>\n",
       "      <th>SibSp</th>\n",
       "      <th>Parch</th>\n",
       "      <th>Ticket</th>\n",
       "      <th>Fare</th>\n",
       "      <th>Cabin</th>\n",
       "      <th>Embarked</th>\n",
       "      <th>Noble</th>\n",
       "      <th>Family_Size</th>\n",
       "      <th>Alone</th>\n",
       "      <th>ticket_num</th>\n",
       "      <th>ticket_lett</th>\n",
       "    </tr>\n",
       "  </thead>\n",
       "  <tbody>\n",
       "    <tr>\n",
       "      <th>1299</th>\n",
       "      <td>1300</td>\n",
       "      <td>NaN</td>\n",
       "      <td>3</td>\n",
       "      <td>female</td>\n",
       "      <td>24.0</td>\n",
       "      <td>0</td>\n",
       "      <td>0</td>\n",
       "      <td>334915</td>\n",
       "      <td>7.7208</td>\n",
       "      <td>NaN</td>\n",
       "      <td>Q</td>\n",
       "      <td>0</td>\n",
       "      <td>1</td>\n",
       "      <td>1</td>\n",
       "      <td>334915</td>\n",
       "      <td>0</td>\n",
       "    </tr>\n",
       "    <tr>\n",
       "      <th>1300</th>\n",
       "      <td>1301</td>\n",
       "      <td>NaN</td>\n",
       "      <td>3</td>\n",
       "      <td>female</td>\n",
       "      <td>3.0</td>\n",
       "      <td>1</td>\n",
       "      <td>1</td>\n",
       "      <td>SOTON/O.Q. 3101315</td>\n",
       "      <td>13.7750</td>\n",
       "      <td>NaN</td>\n",
       "      <td>S</td>\n",
       "      <td>0</td>\n",
       "      <td>3</td>\n",
       "      <td>0</td>\n",
       "      <td>3101315</td>\n",
       "      <td>SOTON/O.Q.</td>\n",
       "    </tr>\n",
       "    <tr>\n",
       "      <th>1301</th>\n",
       "      <td>1302</td>\n",
       "      <td>NaN</td>\n",
       "      <td>3</td>\n",
       "      <td>female</td>\n",
       "      <td>24.0</td>\n",
       "      <td>0</td>\n",
       "      <td>0</td>\n",
       "      <td>365237</td>\n",
       "      <td>7.7500</td>\n",
       "      <td>NaN</td>\n",
       "      <td>Q</td>\n",
       "      <td>0</td>\n",
       "      <td>1</td>\n",
       "      <td>1</td>\n",
       "      <td>365237</td>\n",
       "      <td>0</td>\n",
       "    </tr>\n",
       "    <tr>\n",
       "      <th>1302</th>\n",
       "      <td>1303</td>\n",
       "      <td>NaN</td>\n",
       "      <td>1</td>\n",
       "      <td>female</td>\n",
       "      <td>37.0</td>\n",
       "      <td>1</td>\n",
       "      <td>0</td>\n",
       "      <td>19928</td>\n",
       "      <td>90.0000</td>\n",
       "      <td>C78</td>\n",
       "      <td>Q</td>\n",
       "      <td>0</td>\n",
       "      <td>2</td>\n",
       "      <td>0</td>\n",
       "      <td>19928</td>\n",
       "      <td>0</td>\n",
       "    </tr>\n",
       "    <tr>\n",
       "      <th>1303</th>\n",
       "      <td>1304</td>\n",
       "      <td>NaN</td>\n",
       "      <td>3</td>\n",
       "      <td>female</td>\n",
       "      <td>28.0</td>\n",
       "      <td>0</td>\n",
       "      <td>0</td>\n",
       "      <td>347086</td>\n",
       "      <td>7.7750</td>\n",
       "      <td>NaN</td>\n",
       "      <td>S</td>\n",
       "      <td>0</td>\n",
       "      <td>1</td>\n",
       "      <td>1</td>\n",
       "      <td>347086</td>\n",
       "      <td>0</td>\n",
       "    </tr>\n",
       "    <tr>\n",
       "      <th>1304</th>\n",
       "      <td>1305</td>\n",
       "      <td>NaN</td>\n",
       "      <td>3</td>\n",
       "      <td>male</td>\n",
       "      <td>24.0</td>\n",
       "      <td>0</td>\n",
       "      <td>0</td>\n",
       "      <td>A.5. 3236</td>\n",
       "      <td>8.0500</td>\n",
       "      <td>NaN</td>\n",
       "      <td>S</td>\n",
       "      <td>0</td>\n",
       "      <td>1</td>\n",
       "      <td>1</td>\n",
       "      <td>3236</td>\n",
       "      <td>A.5.</td>\n",
       "    </tr>\n",
       "    <tr>\n",
       "      <th>1305</th>\n",
       "      <td>1306</td>\n",
       "      <td>NaN</td>\n",
       "      <td>1</td>\n",
       "      <td>female</td>\n",
       "      <td>39.0</td>\n",
       "      <td>0</td>\n",
       "      <td>0</td>\n",
       "      <td>PC 17758</td>\n",
       "      <td>108.9000</td>\n",
       "      <td>C105</td>\n",
       "      <td>C</td>\n",
       "      <td>0</td>\n",
       "      <td>1</td>\n",
       "      <td>1</td>\n",
       "      <td>17758</td>\n",
       "      <td>PC</td>\n",
       "    </tr>\n",
       "    <tr>\n",
       "      <th>1306</th>\n",
       "      <td>1307</td>\n",
       "      <td>NaN</td>\n",
       "      <td>3</td>\n",
       "      <td>male</td>\n",
       "      <td>38.5</td>\n",
       "      <td>0</td>\n",
       "      <td>0</td>\n",
       "      <td>SOTON/O.Q. 3101262</td>\n",
       "      <td>7.2500</td>\n",
       "      <td>NaN</td>\n",
       "      <td>S</td>\n",
       "      <td>0</td>\n",
       "      <td>1</td>\n",
       "      <td>1</td>\n",
       "      <td>3101262</td>\n",
       "      <td>SOTON/O.Q.</td>\n",
       "    </tr>\n",
       "    <tr>\n",
       "      <th>1307</th>\n",
       "      <td>1308</td>\n",
       "      <td>NaN</td>\n",
       "      <td>3</td>\n",
       "      <td>male</td>\n",
       "      <td>24.0</td>\n",
       "      <td>0</td>\n",
       "      <td>0</td>\n",
       "      <td>359309</td>\n",
       "      <td>8.0500</td>\n",
       "      <td>NaN</td>\n",
       "      <td>S</td>\n",
       "      <td>0</td>\n",
       "      <td>1</td>\n",
       "      <td>1</td>\n",
       "      <td>359309</td>\n",
       "      <td>0</td>\n",
       "    </tr>\n",
       "    <tr>\n",
       "      <th>1308</th>\n",
       "      <td>1309</td>\n",
       "      <td>NaN</td>\n",
       "      <td>3</td>\n",
       "      <td>male</td>\n",
       "      <td>24.0</td>\n",
       "      <td>1</td>\n",
       "      <td>1</td>\n",
       "      <td>2668</td>\n",
       "      <td>22.3583</td>\n",
       "      <td>NaN</td>\n",
       "      <td>C</td>\n",
       "      <td>1</td>\n",
       "      <td>3</td>\n",
       "      <td>0</td>\n",
       "      <td>2668</td>\n",
       "      <td>0</td>\n",
       "    </tr>\n",
       "  </tbody>\n",
       "</table>\n",
       "</div>"
      ]
     },
     "metadata": {},
     "execution_count": 126
    }
   ],
   "metadata": {}
  },
  {
   "cell_type": "code",
   "execution_count": 127,
   "source": [
    "#Not sure there is much here\r\n",
    "all_df=all_df.drop(columns=['Ticket','ticket_num','ticket_lett','PassengerId'])"
   ],
   "outputs": [],
   "metadata": {}
  },
  {
   "cell_type": "markdown",
   "source": [
    "## Cabin\r\n",
    "1. fill missing values\r\n",
    "2. What else can it tell us?"
   ],
   "metadata": {}
  },
  {
   "cell_type": "code",
   "execution_count": 128,
   "source": [
    "\r\n",
    "all_df['cabin_num'] = all_df.Cabin.apply(lambda x: 0 if pd.isna(x) else len(x.split(' ')))\r\n",
    "all_df['cabin_lett'] = all_df.Cabin.apply(lambda x: str(x)[0])\r\n",
    "\r\n",
    "print(pd.pivot_table(all_df, index = 'Survived', columns = 'cabin_num', values = 'Age' ,aggfunc ='count'))\r\n",
    "print('######################################################################')\r\n",
    "print(pd.pivot_table(all_df,index='Survived',columns='cabin_lett', values = 'Age', aggfunc='count'))"
   ],
   "outputs": [
    {
     "output_type": "stream",
     "name": "stdout",
     "text": [
      "cabin_num      0      1    2    3    4\n",
      "Survived                              \n",
      "0.0        481.0   58.0  7.0  3.0  NaN\n",
      "1.0        206.0  122.0  9.0  3.0  2.0\n",
      "######################################################################\n",
      "cabin_lett    A     B     C     D     E    F    G    T      n\n",
      "Survived                                                     \n",
      "0.0         8.0  12.0  24.0   8.0   8.0  5.0  2.0  1.0  481.0\n",
      "1.0         7.0  35.0  35.0  25.0  24.0  8.0  2.0  NaN  206.0\n"
     ]
    }
   ],
   "metadata": {}
  },
  {
   "cell_type": "code",
   "execution_count": 129,
   "source": [
    "all_df.groupby(['cabin_lett'])['Fare'].median()"
   ],
   "outputs": [
    {
     "output_type": "execute_result",
     "data": {
      "text/plain": [
       "cabin_lett\n",
       "A    35.0771\n",
       "B    82.2667\n",
       "C    86.2896\n",
       "D    52.5542\n",
       "E    53.1000\n",
       "F    13.0000\n",
       "G    16.7000\n",
       "T    35.5000\n",
       "n    10.5000\n",
       "Name: Fare, dtype: float64"
      ]
     },
     "metadata": {},
     "execution_count": 129
    }
   ],
   "metadata": {}
  },
  {
   "cell_type": "code",
   "execution_count": 130,
   "source": [
    "# Lets use missing values as their own cathegory \r\n",
    "all_df['cabin_num'] = all_df.Cabin.apply(lambda x: 0 if pd.isna(x) else (x.split(' ')[0])[1:])\r\n",
    "all_df['cabin_lett'] = all_df.Cabin.apply(lambda x: str(x)[0])\r\n",
    "all_df.tail(10)"
   ],
   "outputs": [
    {
     "output_type": "execute_result",
     "data": {
      "text/plain": [
       "      Survived  Pclass     Sex   Age  SibSp  Parch      Fare Cabin Embarked  \\\n",
       "1299       NaN       3  female  24.0      0      0    7.7208   NaN        Q   \n",
       "1300       NaN       3  female   3.0      1      1   13.7750   NaN        S   \n",
       "1301       NaN       3  female  24.0      0      0    7.7500   NaN        Q   \n",
       "1302       NaN       1  female  37.0      1      0   90.0000   C78        Q   \n",
       "1303       NaN       3  female  28.0      0      0    7.7750   NaN        S   \n",
       "1304       NaN       3    male  24.0      0      0    8.0500   NaN        S   \n",
       "1305       NaN       1  female  39.0      0      0  108.9000  C105        C   \n",
       "1306       NaN       3    male  38.5      0      0    7.2500   NaN        S   \n",
       "1307       NaN       3    male  24.0      0      0    8.0500   NaN        S   \n",
       "1308       NaN       3    male  24.0      1      1   22.3583   NaN        C   \n",
       "\n",
       "      Noble  Family_Size  Alone cabin_num cabin_lett  \n",
       "1299      0            1      1         0          n  \n",
       "1300      0            3      0         0          n  \n",
       "1301      0            1      1         0          n  \n",
       "1302      0            2      0        78          C  \n",
       "1303      0            1      1         0          n  \n",
       "1304      0            1      1         0          n  \n",
       "1305      0            1      1       105          C  \n",
       "1306      0            1      1         0          n  \n",
       "1307      0            1      1         0          n  \n",
       "1308      1            3      0         0          n  "
      ],
      "text/html": [
       "<div>\n",
       "<style scoped>\n",
       "    .dataframe tbody tr th:only-of-type {\n",
       "        vertical-align: middle;\n",
       "    }\n",
       "\n",
       "    .dataframe tbody tr th {\n",
       "        vertical-align: top;\n",
       "    }\n",
       "\n",
       "    .dataframe thead th {\n",
       "        text-align: right;\n",
       "    }\n",
       "</style>\n",
       "<table border=\"1\" class=\"dataframe\">\n",
       "  <thead>\n",
       "    <tr style=\"text-align: right;\">\n",
       "      <th></th>\n",
       "      <th>Survived</th>\n",
       "      <th>Pclass</th>\n",
       "      <th>Sex</th>\n",
       "      <th>Age</th>\n",
       "      <th>SibSp</th>\n",
       "      <th>Parch</th>\n",
       "      <th>Fare</th>\n",
       "      <th>Cabin</th>\n",
       "      <th>Embarked</th>\n",
       "      <th>Noble</th>\n",
       "      <th>Family_Size</th>\n",
       "      <th>Alone</th>\n",
       "      <th>cabin_num</th>\n",
       "      <th>cabin_lett</th>\n",
       "    </tr>\n",
       "  </thead>\n",
       "  <tbody>\n",
       "    <tr>\n",
       "      <th>1299</th>\n",
       "      <td>NaN</td>\n",
       "      <td>3</td>\n",
       "      <td>female</td>\n",
       "      <td>24.0</td>\n",
       "      <td>0</td>\n",
       "      <td>0</td>\n",
       "      <td>7.7208</td>\n",
       "      <td>NaN</td>\n",
       "      <td>Q</td>\n",
       "      <td>0</td>\n",
       "      <td>1</td>\n",
       "      <td>1</td>\n",
       "      <td>0</td>\n",
       "      <td>n</td>\n",
       "    </tr>\n",
       "    <tr>\n",
       "      <th>1300</th>\n",
       "      <td>NaN</td>\n",
       "      <td>3</td>\n",
       "      <td>female</td>\n",
       "      <td>3.0</td>\n",
       "      <td>1</td>\n",
       "      <td>1</td>\n",
       "      <td>13.7750</td>\n",
       "      <td>NaN</td>\n",
       "      <td>S</td>\n",
       "      <td>0</td>\n",
       "      <td>3</td>\n",
       "      <td>0</td>\n",
       "      <td>0</td>\n",
       "      <td>n</td>\n",
       "    </tr>\n",
       "    <tr>\n",
       "      <th>1301</th>\n",
       "      <td>NaN</td>\n",
       "      <td>3</td>\n",
       "      <td>female</td>\n",
       "      <td>24.0</td>\n",
       "      <td>0</td>\n",
       "      <td>0</td>\n",
       "      <td>7.7500</td>\n",
       "      <td>NaN</td>\n",
       "      <td>Q</td>\n",
       "      <td>0</td>\n",
       "      <td>1</td>\n",
       "      <td>1</td>\n",
       "      <td>0</td>\n",
       "      <td>n</td>\n",
       "    </tr>\n",
       "    <tr>\n",
       "      <th>1302</th>\n",
       "      <td>NaN</td>\n",
       "      <td>1</td>\n",
       "      <td>female</td>\n",
       "      <td>37.0</td>\n",
       "      <td>1</td>\n",
       "      <td>0</td>\n",
       "      <td>90.0000</td>\n",
       "      <td>C78</td>\n",
       "      <td>Q</td>\n",
       "      <td>0</td>\n",
       "      <td>2</td>\n",
       "      <td>0</td>\n",
       "      <td>78</td>\n",
       "      <td>C</td>\n",
       "    </tr>\n",
       "    <tr>\n",
       "      <th>1303</th>\n",
       "      <td>NaN</td>\n",
       "      <td>3</td>\n",
       "      <td>female</td>\n",
       "      <td>28.0</td>\n",
       "      <td>0</td>\n",
       "      <td>0</td>\n",
       "      <td>7.7750</td>\n",
       "      <td>NaN</td>\n",
       "      <td>S</td>\n",
       "      <td>0</td>\n",
       "      <td>1</td>\n",
       "      <td>1</td>\n",
       "      <td>0</td>\n",
       "      <td>n</td>\n",
       "    </tr>\n",
       "    <tr>\n",
       "      <th>1304</th>\n",
       "      <td>NaN</td>\n",
       "      <td>3</td>\n",
       "      <td>male</td>\n",
       "      <td>24.0</td>\n",
       "      <td>0</td>\n",
       "      <td>0</td>\n",
       "      <td>8.0500</td>\n",
       "      <td>NaN</td>\n",
       "      <td>S</td>\n",
       "      <td>0</td>\n",
       "      <td>1</td>\n",
       "      <td>1</td>\n",
       "      <td>0</td>\n",
       "      <td>n</td>\n",
       "    </tr>\n",
       "    <tr>\n",
       "      <th>1305</th>\n",
       "      <td>NaN</td>\n",
       "      <td>1</td>\n",
       "      <td>female</td>\n",
       "      <td>39.0</td>\n",
       "      <td>0</td>\n",
       "      <td>0</td>\n",
       "      <td>108.9000</td>\n",
       "      <td>C105</td>\n",
       "      <td>C</td>\n",
       "      <td>0</td>\n",
       "      <td>1</td>\n",
       "      <td>1</td>\n",
       "      <td>105</td>\n",
       "      <td>C</td>\n",
       "    </tr>\n",
       "    <tr>\n",
       "      <th>1306</th>\n",
       "      <td>NaN</td>\n",
       "      <td>3</td>\n",
       "      <td>male</td>\n",
       "      <td>38.5</td>\n",
       "      <td>0</td>\n",
       "      <td>0</td>\n",
       "      <td>7.2500</td>\n",
       "      <td>NaN</td>\n",
       "      <td>S</td>\n",
       "      <td>0</td>\n",
       "      <td>1</td>\n",
       "      <td>1</td>\n",
       "      <td>0</td>\n",
       "      <td>n</td>\n",
       "    </tr>\n",
       "    <tr>\n",
       "      <th>1307</th>\n",
       "      <td>NaN</td>\n",
       "      <td>3</td>\n",
       "      <td>male</td>\n",
       "      <td>24.0</td>\n",
       "      <td>0</td>\n",
       "      <td>0</td>\n",
       "      <td>8.0500</td>\n",
       "      <td>NaN</td>\n",
       "      <td>S</td>\n",
       "      <td>0</td>\n",
       "      <td>1</td>\n",
       "      <td>1</td>\n",
       "      <td>0</td>\n",
       "      <td>n</td>\n",
       "    </tr>\n",
       "    <tr>\n",
       "      <th>1308</th>\n",
       "      <td>NaN</td>\n",
       "      <td>3</td>\n",
       "      <td>male</td>\n",
       "      <td>24.0</td>\n",
       "      <td>1</td>\n",
       "      <td>1</td>\n",
       "      <td>22.3583</td>\n",
       "      <td>NaN</td>\n",
       "      <td>C</td>\n",
       "      <td>1</td>\n",
       "      <td>3</td>\n",
       "      <td>0</td>\n",
       "      <td>0</td>\n",
       "      <td>n</td>\n",
       "    </tr>\n",
       "  </tbody>\n",
       "</table>\n",
       "</div>"
      ]
     },
     "metadata": {},
     "execution_count": 130
    }
   ],
   "metadata": {}
  },
  {
   "cell_type": "code",
   "execution_count": 131,
   "source": [
    "all_df['Cabin'].value_counts()\r\n",
    "# Some passangers have multipe cabins? \r\n",
    "# Dose this affect Survival? Is it corralated with Fare?\r\n",
    "for i in range(0,len(all_df)):\r\n",
    "    if pd.isna(all_df.at[i,'Cabin']):\r\n",
    "        all_df.at[i,'nOf_Cabins']= 0\r\n",
    "    else:\r\n",
    "        all_df.at[i,'nOf_Cabins']= len(all_df.at[i,'Cabin'].split())\r\n",
    "all_df['nOf_Cabins'].value_counts()\r\n",
    "print(all_df['nOf_Cabins'].corr(all_df['Fare']))\r\n",
    "pd.pivot_table(all_df,index='Survived',columns='nOf_Cabins',values='Age',aggfunc='count')"
   ],
   "outputs": [
    {
     "output_type": "stream",
     "name": "stdout",
     "text": [
      "0.633223677079347\n"
     ]
    },
    {
     "output_type": "execute_result",
     "data": {
      "text/plain": [
       "nOf_Cabins    0.0    1.0  2.0  3.0  4.0\n",
       "Survived                               \n",
       "0.0         481.0   58.0  7.0  3.0  NaN\n",
       "1.0         206.0  122.0  9.0  3.0  2.0"
      ],
      "text/html": [
       "<div>\n",
       "<style scoped>\n",
       "    .dataframe tbody tr th:only-of-type {\n",
       "        vertical-align: middle;\n",
       "    }\n",
       "\n",
       "    .dataframe tbody tr th {\n",
       "        vertical-align: top;\n",
       "    }\n",
       "\n",
       "    .dataframe thead th {\n",
       "        text-align: right;\n",
       "    }\n",
       "</style>\n",
       "<table border=\"1\" class=\"dataframe\">\n",
       "  <thead>\n",
       "    <tr style=\"text-align: right;\">\n",
       "      <th>nOf_Cabins</th>\n",
       "      <th>0.0</th>\n",
       "      <th>1.0</th>\n",
       "      <th>2.0</th>\n",
       "      <th>3.0</th>\n",
       "      <th>4.0</th>\n",
       "    </tr>\n",
       "    <tr>\n",
       "      <th>Survived</th>\n",
       "      <th></th>\n",
       "      <th></th>\n",
       "      <th></th>\n",
       "      <th></th>\n",
       "      <th></th>\n",
       "    </tr>\n",
       "  </thead>\n",
       "  <tbody>\n",
       "    <tr>\n",
       "      <th>0.0</th>\n",
       "      <td>481.0</td>\n",
       "      <td>58.0</td>\n",
       "      <td>7.0</td>\n",
       "      <td>3.0</td>\n",
       "      <td>NaN</td>\n",
       "    </tr>\n",
       "    <tr>\n",
       "      <th>1.0</th>\n",
       "      <td>206.0</td>\n",
       "      <td>122.0</td>\n",
       "      <td>9.0</td>\n",
       "      <td>3.0</td>\n",
       "      <td>2.0</td>\n",
       "    </tr>\n",
       "  </tbody>\n",
       "</table>\n",
       "</div>"
      ]
     },
     "metadata": {},
     "execution_count": 131
    }
   ],
   "metadata": {}
  },
  {
   "cell_type": "code",
   "execution_count": 132,
   "source": [
    "#Estimate distance to stairs based on https://www.encyclopedia-titanica.org/titanic-deckplans/\r\n",
    "# _Cstairs is a list with cabin numbers colosest to stairs up on each deck\r\n",
    "A_Cstairs=[34,35,36,37,3,4]\r\n",
    "B_Cstairs=[91,92,46,47,5,6]\r\n",
    "C_Cstairs=[102,93,142,123,90,83,95,104,40,39]\r\n",
    "D_Cstairs=[61,62,55,56,69,70,35,34]\r\n",
    "E_Cstairs=[61,62,55,56,69,70,35,34]\r\n",
    "F_Cstairs=[50,54,59,15,18]\r\n",
    "G_Cstairs=[16,8,2,18]\r\n",
    "#Distance_Calculator returns the distance from each cabin to a cabin closest to the stairs\r\n",
    "def Distance_Calculator( c_num , list):\r\n",
    "    distances=np.zeros(len(list))\r\n",
    "    for j in range(0,len(list)):\r\n",
    "        try:\r\n",
    "            distances[j]=abs(int(c_num)-list[j])\r\n",
    "        except:\r\n",
    "            try:\r\n",
    "                distances[j]=abs(int(c_num[1:]-list[j]))\r\n",
    "            except:\r\n",
    "                try:\r\n",
    "                    distances[j]=abs(int(c_num[2:]-list[j]))\r\n",
    "                except:\r\n",
    "                    distances[j]=50\r\n",
    "    return(min(distances))"
   ],
   "outputs": [],
   "metadata": {}
  },
  {
   "cell_type": "code",
   "execution_count": 133,
   "source": [
    "for i in range(0,len(all_df)):\r\n",
    "    if all_df.at[i,'cabin_lett']=='n':\r\n",
    "        all_df.at[i,'Distance']= 50\r\n",
    "    elif all_df.at[i,'cabin_lett']=='A':\r\n",
    "        all_df.at[i,'Distance']= Distance_Calculator(all_df.at[i,'cabin_num'], A_Cstairs)\r\n",
    "    elif all_df.at[i,'cabin_lett']=='B ':\r\n",
    "        train_df.at[i,'Distance']= Distance_Calculator(all_df.at[i,'cabin_num'], B_Cstairs)\r\n",
    "    elif all_df.at[i,'cabin_lett']=='C':\r\n",
    "        all_df.at[i,'Distance']= Distance_Calculator(all_df.at[i,'cabin_num'], C_Cstairs)\r\n",
    "    elif all_df.at[i,'cabin_lett']=='D':\r\n",
    "        all_df.at[i,'Distance']= Distance_Calculator(all_df.at[i,'cabin_num'], D_Cstairs)\r\n",
    "    elif all_df.at[i,'cabin_lett']=='E':\r\n",
    "        all_df.at[i,'Distance']= Distance_Calculator(all_df.at[i,'cabin_num'], E_Cstairs)\r\n",
    "    elif all_df.at[i,'cabin_lett']=='F':\r\n",
    "        all_df.at[i,'Distance']= Distance_Calculator(all_df.at[i,'cabin_num'], F_Cstairs)\r\n",
    "    elif all_df.at[i,'cabin_lett']=='G':\r\n",
    "        all_df.at[i,'Distance']= Distance_Calculator(all_df.at[i,'cabin_num'], G_Cstairs)\r\n",
    "    else:\r\n",
    "        all_df.at[i,'Distance']= 50"
   ],
   "outputs": [],
   "metadata": {}
  },
  {
   "cell_type": "code",
   "execution_count": 134,
   "source": [
    "all_df['Distance'].fillna(50)\r\n",
    "all_df['Distance'].corr(all_df['Survived'])"
   ],
   "outputs": [
    {
     "output_type": "execute_result",
     "data": {
      "text/plain": [
       "-0.22731871047912852"
      ]
     },
     "metadata": {},
     "execution_count": 134
    }
   ],
   "metadata": {}
  },
  {
   "cell_type": "code",
   "execution_count": 135,
   "source": [
    "all_df=all_df.drop(columns='Cabin')"
   ],
   "outputs": [],
   "metadata": {}
  },
  {
   "cell_type": "markdown",
   "source": [
    "## Embarked two missing values"
   ],
   "metadata": {}
  },
  {
   "cell_type": "code",
   "execution_count": 136,
   "source": [
    "all_df['Embarked'].value_counts()"
   ],
   "outputs": [
    {
     "output_type": "execute_result",
     "data": {
      "text/plain": [
       "S    914\n",
       "C    270\n",
       "Q    123\n",
       "Name: Embarked, dtype: int64"
      ]
     },
     "metadata": {},
     "execution_count": 136
    }
   ],
   "metadata": {}
  },
  {
   "cell_type": "code",
   "execution_count": 137,
   "source": [
    "all_df['Embarked']=all_df['Embarked'].fillna('S')"
   ],
   "outputs": [],
   "metadata": {}
  },
  {
   "cell_type": "markdown",
   "source": [
    "## Fare\r\n",
    "1. One value missing"
   ],
   "metadata": {}
  },
  {
   "cell_type": "code",
   "execution_count": 138,
   "source": [
    "all_df.info()"
   ],
   "outputs": [
    {
     "output_type": "stream",
     "name": "stdout",
     "text": [
      "<class 'pandas.core.frame.DataFrame'>\n",
      "RangeIndex: 1309 entries, 0 to 1308\n",
      "Data columns (total 15 columns):\n",
      " #   Column       Non-Null Count  Dtype  \n",
      "---  ------       --------------  -----  \n",
      " 0   Survived     891 non-null    float64\n",
      " 1   Pclass       1309 non-null   int64  \n",
      " 2   Sex          1309 non-null   object \n",
      " 3   Age          1309 non-null   float64\n",
      " 4   SibSp        1309 non-null   int64  \n",
      " 5   Parch        1309 non-null   int64  \n",
      " 6   Fare         1308 non-null   float64\n",
      " 7   Embarked     1309 non-null   object \n",
      " 8   Noble        1309 non-null   int64  \n",
      " 9   Family_Size  1309 non-null   int64  \n",
      " 10  Alone        1309 non-null   int64  \n",
      " 11  cabin_num    1309 non-null   object \n",
      " 12  cabin_lett   1309 non-null   object \n",
      " 13  nOf_Cabins   1309 non-null   float64\n",
      " 14  Distance     1309 non-null   float64\n",
      "dtypes: float64(5), int64(6), object(4)\n",
      "memory usage: 153.5+ KB\n"
     ]
    }
   ],
   "metadata": {}
  },
  {
   "cell_type": "markdown",
   "source": [
    "# Fare\r\n",
    "1. One missing value"
   ],
   "metadata": {}
  },
  {
   "cell_type": "code",
   "execution_count": 139,
   "source": [
    "for i in range(0,len(all_df)):\r\n",
    "    if pd.isna(all_df.at[i,'Fare']):\r\n",
    "        print(all_df.iloc[i])\r\n",
    "    else:\r\n",
    "        pass"
   ],
   "outputs": [
    {
     "output_type": "stream",
     "name": "stdout",
     "text": [
      "Survived        NaN\n",
      "Pclass            3\n",
      "Sex            male\n",
      "Age            60.5\n",
      "SibSp             0\n",
      "Parch             0\n",
      "Fare            NaN\n",
      "Embarked          S\n",
      "Noble             0\n",
      "Family_Size       1\n",
      "Alone             1\n",
      "cabin_num         0\n",
      "cabin_lett        n\n",
      "nOf_Cabins      0.0\n",
      "Distance       50.0\n",
      "Name: 1043, dtype: object\n"
     ]
    }
   ],
   "metadata": {}
  },
  {
   "cell_type": "code",
   "execution_count": 140,
   "source": [
    "#Given its a Pclass =3\r\n",
    "all_df['Fare'] = all_df['Fare'].fillna(all_df.groupby(['Pclass'])['Fare'].mean()[3])"
   ],
   "outputs": [],
   "metadata": {}
  },
  {
   "cell_type": "code",
   "execution_count": 141,
   "source": [
    "all_df=all_df.drop(columns='cabin_num')\r\n",
    "all_df.info()\r\n",
    "# no missing values, can prepear for fitting"
   ],
   "outputs": [
    {
     "output_type": "stream",
     "name": "stdout",
     "text": [
      "<class 'pandas.core.frame.DataFrame'>\n",
      "RangeIndex: 1309 entries, 0 to 1308\n",
      "Data columns (total 14 columns):\n",
      " #   Column       Non-Null Count  Dtype  \n",
      "---  ------       --------------  -----  \n",
      " 0   Survived     891 non-null    float64\n",
      " 1   Pclass       1309 non-null   int64  \n",
      " 2   Sex          1309 non-null   object \n",
      " 3   Age          1309 non-null   float64\n",
      " 4   SibSp        1309 non-null   int64  \n",
      " 5   Parch        1309 non-null   int64  \n",
      " 6   Fare         1309 non-null   float64\n",
      " 7   Embarked     1309 non-null   object \n",
      " 8   Noble        1309 non-null   int64  \n",
      " 9   Family_Size  1309 non-null   int64  \n",
      " 10  Alone        1309 non-null   int64  \n",
      " 11  cabin_lett   1309 non-null   object \n",
      " 12  nOf_Cabins   1309 non-null   float64\n",
      " 13  Distance     1309 non-null   float64\n",
      "dtypes: float64(5), int64(6), object(3)\n",
      "memory usage: 143.3+ KB\n"
     ]
    }
   ],
   "metadata": {}
  },
  {
   "cell_type": "code",
   "execution_count": 142,
   "source": [
    "## Preapear data for fitting"
   ],
   "outputs": [],
   "metadata": {}
  },
  {
   "cell_type": "code",
   "execution_count": 143,
   "source": [
    "#Create dummies\r\n",
    "dummies = pd.get_dummies(all_df[['Pclass','Sex','Embarked','cabin_lett',]])\r\n",
    "final_data=dummies.join([all_df['Survived'],all_df['Age'],all_df['SibSp'],all_df['Parch'],all_df['Fare'],all_df['Noble'],all_df['Family_Size'],all_df['nOf_Cabins'],all_df['Distance']])\r\n"
   ],
   "outputs": [],
   "metadata": {}
  },
  {
   "cell_type": "code",
   "execution_count": 144,
   "source": [
    "#Scale data\r\n",
    "from sklearn.preprocessing import StandardScaler\r\n",
    "scale = StandardScaler()\r\n",
    "final_scaled= final_data.copy()\r\n",
    "final_scaled[['Age','SibSp','Parch','Fare','Family_Size','nOf_Cabins','Distance']]= scale.fit_transform(final_scaled[['Age','SibSp','Parch','Fare','Family_Size','nOf_Cabins','Distance']])"
   ],
   "outputs": [],
   "metadata": {}
  },
  {
   "cell_type": "code",
   "execution_count": 145,
   "source": [
    "#Split into train and test\r\n",
    "train = final_scaled[0:891]\r\n",
    "test = final_scaled[891:]\r\n",
    "X=train.drop(columns='Survived')\r\n",
    "Y=train.Survived"
   ],
   "outputs": [],
   "metadata": {}
  },
  {
   "cell_type": "code",
   "execution_count": 146,
   "source": [
    "#Create train and validation sets\r\n",
    "from sklearn.model_selection import train_test_split\r\n",
    "x_train, x_val, y_train, y_val = train_test_split(X,Y,test_size=0.2)"
   ],
   "outputs": [],
   "metadata": {}
  },
  {
   "cell_type": "markdown",
   "source": [
    "# Model selection"
   ],
   "metadata": {}
  },
  {
   "cell_type": "code",
   "execution_count": 147,
   "source": [
    "from sklearn.model_selection import cross_val_score\r\n",
    "from sklearn.linear_model import LogisticRegression\r\n",
    "from sklearn.ensemble import RandomForestClassifier\r\n",
    "from sklearn.svm import SVC\r\n",
    "from sklearn.metrics import accuracy_score\r\n",
    "from xgboost import XGBClassifier\r\n",
    "from sklearn.model_selection import cross_val_score\r\n",
    "from sklearn.model_selection import GridSearchCV "
   ],
   "outputs": [],
   "metadata": {}
  },
  {
   "cell_type": "code",
   "execution_count": 148,
   "source": [
    "lr = LogisticRegression(max_iter = 2000)\r\n",
    "lr.fit(x_train,y_train)\r\n",
    "yhat=lr.predict(x_val)\r\n",
    "acc=accuracy_score\r\n",
    "acc(yhat,y_val)\r\n",
    "cv = cross_val_score(lr,x_train,y_train,cv=10)\r\n",
    "print(cv)\r\n",
    "print('Mean cv score = ', cv.mean())\r\n",
    "print(\"Validation accuracy = \",acc(yhat,y_val))"
   ],
   "outputs": [
    {
     "output_type": "stream",
     "name": "stdout",
     "text": [
      "[0.80555556 0.84722222 0.77464789 0.88732394 0.85915493 0.90140845\n",
      " 0.87323944 0.69014085 0.88732394 0.74647887]\n",
      "Mean cv score =  0.8272496087636932\n",
      "Validation accuracy =  0.7988826815642458\n"
     ]
    }
   ],
   "metadata": {}
  },
  {
   "cell_type": "code",
   "execution_count": 149,
   "source": [
    "rmf=RandomForestClassifier(random_state=1)\r\n",
    "rmf.fit(x_train,y_train)\r\n",
    "yhat=rmf.predict(x_val)\r\n",
    "acc=accuracy_score\r\n",
    "acc(yhat,y_val)\r\n",
    "cv = cross_val_score(rmf,x_train,y_train,cv=10)\r\n",
    "print(cv)\r\n",
    "print('Mean cv score = ', cv.mean())\r\n",
    "print(\"Validation accuracy = \",acc(yhat,y_val))"
   ],
   "outputs": [
    {
     "output_type": "stream",
     "name": "stdout",
     "text": [
      "[0.77777778 0.83333333 0.74647887 0.83098592 0.90140845 0.88732394\n",
      " 0.83098592 0.73239437 0.77464789 0.73239437]\n",
      "Mean cv score =  0.804773082942097\n",
      "Validation accuracy =  0.8212290502793296\n"
     ]
    }
   ],
   "metadata": {}
  },
  {
   "cell_type": "code",
   "execution_count": 150,
   "source": [
    "svc=SVC()\r\n",
    "svc.fit(x_train,y_train)\r\n",
    "yhat=svc.predict(x_val)\r\n",
    "acc=accuracy_score\r\n",
    "acc(yhat,y_val)\r\n",
    "cv = cross_val_score(svc,x_train,y_train,cv=10)\r\n",
    "print(cv)\r\n",
    "print('Mean cv score = ', cv.mean())\r\n",
    "print(\"Validation accuracy = \",acc(yhat,y_val))"
   ],
   "outputs": [
    {
     "output_type": "stream",
     "name": "stdout",
     "text": [
      "[0.76388889 0.86111111 0.78873239 0.87323944 0.87323944 0.91549296\n",
      " 0.85915493 0.74647887 0.84507042 0.71830986]\n",
      "Mean cv score =  0.8244718309859154\n",
      "Validation accuracy =  0.8268156424581006\n"
     ]
    }
   ],
   "metadata": {}
  },
  {
   "cell_type": "code",
   "execution_count": 151,
   "source": [
    "\r\n",
    "xgb=XGBClassifier(use_label_encoder=False, eval_metric='error')\r\n",
    "xgb.fit(x_train,y_train)\r\n",
    "yhat=xgb.predict(x_val)\r\n",
    "acc=accuracy_score\r\n",
    "acc(yhat,y_val)\r\n",
    "cv = cross_val_score(xgb,x_train,y_train,cv=10)\r\n",
    "print(cv)\r\n",
    "print('Mean cv score = ', cv.mean())\r\n",
    "print(\"Validation accuracy = \",acc(yhat,y_val))"
   ],
   "outputs": [
    {
     "output_type": "stream",
     "name": "stdout",
     "text": [
      "[0.80555556 0.81944444 0.81690141 0.81690141 0.88732394 0.84507042\n",
      " 0.81690141 0.69014085 0.78873239 0.76056338]\n",
      "Mean cv score =  0.8047535211267606\n",
      "Validation accuracy =  0.8212290502793296\n"
     ]
    }
   ],
   "metadata": {}
  },
  {
   "cell_type": "markdown",
   "source": [
    "# Parameter tuning\r\n",
    "## LogisticRegression , RandomForest, XGBClassifier and SVC preform similarly"
   ],
   "metadata": {}
  },
  {
   "cell_type": "code",
   "execution_count": 152,
   "source": [
    "# Logistic regression \r\n",
    "parameters = {'penalty':['l2'], 'C':[0.1, 1, 10], 'solver':['lbfgs', 'liblinear']}\r\n",
    "lr=LogisticRegression(max_iter = 2000)\r\n",
    "clf = GridSearchCV(lr, parameters)\r\n",
    "clf.fit(x_train,y_train)\r\n",
    "clf.best_params_\r\n",
    "yhat=clf.predict(x_val)\r\n",
    "print(clf.best_params_)\r\n",
    "print(\"Validation accuracy = \",acc(yhat,y_val))"
   ],
   "outputs": [
    {
     "output_type": "stream",
     "name": "stdout",
     "text": [
      "{'C': 1, 'penalty': 'l2', 'solver': 'lbfgs'}\n",
      "Validation accuracy =  0.7988826815642458\n"
     ]
    }
   ],
   "metadata": {}
  },
  {
   "cell_type": "code",
   "execution_count": 153,
   "source": [
    "# Random Forest\r\n",
    "parameters = {'criterion':['gini','entropy'], 'min_samples_split':[2,3,4],'min_samples_leaf':[1,2,3]}\r\n",
    "\r\n",
    "rmf=RandomForestClassifier()\r\n",
    "clf = GridSearchCV(rmf, parameters)\r\n",
    "clf.fit(x_train,y_train)\r\n",
    "clf.best_params_\r\n",
    "yhat=clf.predict(x_val)\r\n",
    "print(clf.best_params_)\r\n",
    "print(\"Validation accuracy = \",acc(yhat,y_val))"
   ],
   "outputs": [
    {
     "output_type": "stream",
     "name": "stdout",
     "text": [
      "{'criterion': 'gini', 'min_samples_leaf': 3, 'min_samples_split': 4}\n",
      "Validation accuracy =  0.8156424581005587\n"
     ]
    }
   ],
   "metadata": {}
  },
  {
   "cell_type": "code",
   "execution_count": 154,
   "source": [
    "# SVM\r\n",
    "parameters = {'kernel':['linear','poly','rbf'], 'C':[0.1, 1], 'degree':[2,3,4],'gamma':[0.1,1]}\r\n",
    "\r\n",
    "svc=SVC()\r\n",
    "clf = GridSearchCV(svc, parameters)\r\n",
    "clf.fit(x_train,y_train)\r\n",
    "clf.best_params_\r\n",
    "yhat=clf.predict(x_val)\r\n",
    "print(clf.best_params_)\r\n",
    "print(\"Validation accuracy = \",acc(yhat,y_val))"
   ],
   "outputs": [
    {
     "output_type": "stream",
     "name": "stdout",
     "text": [
      "{'C': 0.1, 'degree': 2, 'gamma': 1, 'kernel': 'poly'}\n",
      "Validation accuracy =  0.8324022346368715\n"
     ]
    }
   ],
   "metadata": {}
  },
  {
   "cell_type": "markdown",
   "source": [
    "# Making submisions"
   ],
   "metadata": {}
  },
  {
   "cell_type": "code",
   "execution_count": null,
   "source": [
    "test=test.drop(columns='Survived')"
   ],
   "outputs": [],
   "metadata": {}
  },
  {
   "cell_type": "code",
   "execution_count": 170,
   "source": [
    "lr=LogisticRegression(max_iter = 2000,C= 0.1, penalty='l2', solver= 'lbfgs')\r\n",
    "lr.fit(X,Y)\r\n",
    "yhat=lr.predict(test)\r\n",
    "submition_lr=pd.DataFrame()\r\n",
    "submition_lr['PassengerId']=test_df['PassengerId']\r\n",
    "submition_lr['Survived']=yhat\r\n",
    "\r\n",
    "\r\n"
   ],
   "outputs": [],
   "metadata": {}
  },
  {
   "cell_type": "code",
   "execution_count": 171,
   "source": [
    "rmf=RandomForestClassifier(criterion='gini', min_samples_leaf= 3, min_samples_split= 4)\r\n",
    "rmf.fit(X,Y)\r\n",
    "yhat=rmf.predict(test)\r\n",
    "submition_rmf=pd.DataFrame()\r\n",
    "submition_rmf['PassengerId']=test_df['PassengerId']\r\n",
    "submition_rmf['Survived']=yhat"
   ],
   "outputs": [],
   "metadata": {}
  },
  {
   "cell_type": "code",
   "execution_count": 172,
   "source": [
    "svc=SVC(C= 0.1, degree= 2,kernel= 'poly')\r\n",
    "svc.fit(X,Y)\r\n",
    "yhat=svc.predict(test)\r\n",
    "submition_svc=pd.DataFrame()\r\n",
    "submition_svc['PassengerId']=test_df['PassengerId']\r\n",
    "submition_svc['Survived']=yhat"
   ],
   "outputs": [],
   "metadata": {}
  },
  {
   "cell_type": "code",
   "execution_count": null,
   "source": [],
   "outputs": [],
   "metadata": {}
  }
 ],
 "metadata": {
  "orig_nbformat": 4,
  "language_info": {
   "name": "python",
   "version": "3.8.8",
   "mimetype": "text/x-python",
   "codemirror_mode": {
    "name": "ipython",
    "version": 3
   },
   "pygments_lexer": "ipython3",
   "nbconvert_exporter": "python",
   "file_extension": ".py"
  },
  "kernelspec": {
   "name": "python3",
   "display_name": "Python 3.8.8 64-bit ('base': conda)"
  },
  "interpreter": {
   "hash": "7e46325706ac53f0ff12c0ff8317cb85712c37659f31fc96b7b78fb5b4f4da0b"
  }
 },
 "nbformat": 4,
 "nbformat_minor": 2
}